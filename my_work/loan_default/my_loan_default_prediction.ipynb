{
  "cells": [
    {
      "cell_type": "markdown",
      "metadata": {
        "id": "view-in-github",
        "colab_type": "text"
      },
      "source": [
        "<a href=\"https://colab.research.google.com/github/ilyadash/pytorch-deep-learning/blob/main/my_loan_default_prediction.ipynb\" target=\"_parent\"><img src=\"https://colab.research.google.com/assets/colab-badge.svg\" alt=\"Open In Colab\"/></a>"
      ]
    },
    {
      "cell_type": "markdown",
      "id": "0b9553ff",
      "metadata": {
        "papermill": {
          "duration": 0.008127,
          "end_time": "2023-09-16T07:45:15.717836",
          "exception": false,
          "start_time": "2023-09-16T07:45:15.709709",
          "status": "completed"
        },
        "tags": [],
        "id": "0b9553ff"
      },
      "source": [
        "<h1 style=\"font-family: 'Lucida Sans', 'Lucida Sans Regular', 'Lucida Grande', 'Lucida Sans Unicode', Geneva, Verdana, sans-serif; text-align: center; color: #3A405A;\">📊 Loan Default Prediction - Data Analysis and Visualization</h1>"
      ]
    },
    {
      "cell_type": "markdown",
      "id": "5c4449c2",
      "metadata": {
        "papermill": {
          "duration": 0.007138,
          "end_time": "2023-09-16T07:45:15.748059",
          "exception": false,
          "start_time": "2023-09-16T07:45:15.740921",
          "status": "completed"
        },
        "tags": [],
        "id": "5c4449c2"
      },
      "source": [
        "# IMPORT DATA"
      ]
    },
    {
      "cell_type": "code",
      "execution_count": 1,
      "id": "c6bd141c",
      "metadata": {
        "execution": {
          "iopub.execute_input": "2023-09-16T07:45:15.764898Z",
          "iopub.status.busy": "2023-09-16T07:45:15.764504Z",
          "iopub.status.idle": "2023-09-16T07:46:40.254327Z",
          "shell.execute_reply": "2023-09-16T07:46:40.252964Z"
        },
        "papermill": {
          "duration": 84.501703,
          "end_time": "2023-09-16T07:46:40.257196",
          "exception": false,
          "start_time": "2023-09-16T07:45:15.755493",
          "status": "completed"
        },
        "tags": [],
        "id": "c6bd141c"
      },
      "outputs": [],
      "source": [
        "import warnings\n",
        "warnings.filterwarnings(\"ignore\")\n",
        "import torch as tr\n",
        "import numpy as np\n",
        "import pandas as pd\n",
        "from pathlib import Path"
      ]
    },
    {
      "cell_type": "code",
      "source": [
        "file_name = 'Loan_default.csv'"
      ],
      "metadata": {
        "id": "eYxcOqwCwGJ8"
      },
      "id": "eYxcOqwCwGJ8",
      "execution_count": 2,
      "outputs": []
    },
    {
      "cell_type": "code",
      "source": [
        "from google.colab import files\n",
        "uploaded = files.upload()"
      ],
      "metadata": {
        "colab": {
          "base_uri": "https://localhost:8080/",
          "height": 71
        },
        "id": "OFtabJ1wyMq7",
        "outputId": "4ed303ab-2781-42ab-e382-60791f9dcdae"
      },
      "id": "OFtabJ1wyMq7",
      "execution_count": 3,
      "outputs": [
        {
          "output_type": "display_data",
          "data": {
            "text/plain": [
              "<IPython.core.display.HTML object>"
            ],
            "text/html": [
              "\n",
              "     <input type=\"file\" id=\"files-5fdbe2b3-18af-4cc0-9c81-4f6386a4ae96\" name=\"files[]\" multiple disabled\n",
              "        style=\"border:none\" />\n",
              "     <output id=\"result-5fdbe2b3-18af-4cc0-9c81-4f6386a4ae96\">\n",
              "      Upload widget is only available when the cell has been executed in the\n",
              "      current browser session. Please rerun this cell to enable.\n",
              "      </output>\n",
              "      <script>// Copyright 2017 Google LLC\n",
              "//\n",
              "// Licensed under the Apache License, Version 2.0 (the \"License\");\n",
              "// you may not use this file except in compliance with the License.\n",
              "// You may obtain a copy of the License at\n",
              "//\n",
              "//      http://www.apache.org/licenses/LICENSE-2.0\n",
              "//\n",
              "// Unless required by applicable law or agreed to in writing, software\n",
              "// distributed under the License is distributed on an \"AS IS\" BASIS,\n",
              "// WITHOUT WARRANTIES OR CONDITIONS OF ANY KIND, either express or implied.\n",
              "// See the License for the specific language governing permissions and\n",
              "// limitations under the License.\n",
              "\n",
              "/**\n",
              " * @fileoverview Helpers for google.colab Python module.\n",
              " */\n",
              "(function(scope) {\n",
              "function span(text, styleAttributes = {}) {\n",
              "  const element = document.createElement('span');\n",
              "  element.textContent = text;\n",
              "  for (const key of Object.keys(styleAttributes)) {\n",
              "    element.style[key] = styleAttributes[key];\n",
              "  }\n",
              "  return element;\n",
              "}\n",
              "\n",
              "// Max number of bytes which will be uploaded at a time.\n",
              "const MAX_PAYLOAD_SIZE = 100 * 1024;\n",
              "\n",
              "function _uploadFiles(inputId, outputId) {\n",
              "  const steps = uploadFilesStep(inputId, outputId);\n",
              "  const outputElement = document.getElementById(outputId);\n",
              "  // Cache steps on the outputElement to make it available for the next call\n",
              "  // to uploadFilesContinue from Python.\n",
              "  outputElement.steps = steps;\n",
              "\n",
              "  return _uploadFilesContinue(outputId);\n",
              "}\n",
              "\n",
              "// This is roughly an async generator (not supported in the browser yet),\n",
              "// where there are multiple asynchronous steps and the Python side is going\n",
              "// to poll for completion of each step.\n",
              "// This uses a Promise to block the python side on completion of each step,\n",
              "// then passes the result of the previous step as the input to the next step.\n",
              "function _uploadFilesContinue(outputId) {\n",
              "  const outputElement = document.getElementById(outputId);\n",
              "  const steps = outputElement.steps;\n",
              "\n",
              "  const next = steps.next(outputElement.lastPromiseValue);\n",
              "  return Promise.resolve(next.value.promise).then((value) => {\n",
              "    // Cache the last promise value to make it available to the next\n",
              "    // step of the generator.\n",
              "    outputElement.lastPromiseValue = value;\n",
              "    return next.value.response;\n",
              "  });\n",
              "}\n",
              "\n",
              "/**\n",
              " * Generator function which is called between each async step of the upload\n",
              " * process.\n",
              " * @param {string} inputId Element ID of the input file picker element.\n",
              " * @param {string} outputId Element ID of the output display.\n",
              " * @return {!Iterable<!Object>} Iterable of next steps.\n",
              " */\n",
              "function* uploadFilesStep(inputId, outputId) {\n",
              "  const inputElement = document.getElementById(inputId);\n",
              "  inputElement.disabled = false;\n",
              "\n",
              "  const outputElement = document.getElementById(outputId);\n",
              "  outputElement.innerHTML = '';\n",
              "\n",
              "  const pickedPromise = new Promise((resolve) => {\n",
              "    inputElement.addEventListener('change', (e) => {\n",
              "      resolve(e.target.files);\n",
              "    });\n",
              "  });\n",
              "\n",
              "  const cancel = document.createElement('button');\n",
              "  inputElement.parentElement.appendChild(cancel);\n",
              "  cancel.textContent = 'Cancel upload';\n",
              "  const cancelPromise = new Promise((resolve) => {\n",
              "    cancel.onclick = () => {\n",
              "      resolve(null);\n",
              "    };\n",
              "  });\n",
              "\n",
              "  // Wait for the user to pick the files.\n",
              "  const files = yield {\n",
              "    promise: Promise.race([pickedPromise, cancelPromise]),\n",
              "    response: {\n",
              "      action: 'starting',\n",
              "    }\n",
              "  };\n",
              "\n",
              "  cancel.remove();\n",
              "\n",
              "  // Disable the input element since further picks are not allowed.\n",
              "  inputElement.disabled = true;\n",
              "\n",
              "  if (!files) {\n",
              "    return {\n",
              "      response: {\n",
              "        action: 'complete',\n",
              "      }\n",
              "    };\n",
              "  }\n",
              "\n",
              "  for (const file of files) {\n",
              "    const li = document.createElement('li');\n",
              "    li.append(span(file.name, {fontWeight: 'bold'}));\n",
              "    li.append(span(\n",
              "        `(${file.type || 'n/a'}) - ${file.size} bytes, ` +\n",
              "        `last modified: ${\n",
              "            file.lastModifiedDate ? file.lastModifiedDate.toLocaleDateString() :\n",
              "                                    'n/a'} - `));\n",
              "    const percent = span('0% done');\n",
              "    li.appendChild(percent);\n",
              "\n",
              "    outputElement.appendChild(li);\n",
              "\n",
              "    const fileDataPromise = new Promise((resolve) => {\n",
              "      const reader = new FileReader();\n",
              "      reader.onload = (e) => {\n",
              "        resolve(e.target.result);\n",
              "      };\n",
              "      reader.readAsArrayBuffer(file);\n",
              "    });\n",
              "    // Wait for the data to be ready.\n",
              "    let fileData = yield {\n",
              "      promise: fileDataPromise,\n",
              "      response: {\n",
              "        action: 'continue',\n",
              "      }\n",
              "    };\n",
              "\n",
              "    // Use a chunked sending to avoid message size limits. See b/62115660.\n",
              "    let position = 0;\n",
              "    do {\n",
              "      const length = Math.min(fileData.byteLength - position, MAX_PAYLOAD_SIZE);\n",
              "      const chunk = new Uint8Array(fileData, position, length);\n",
              "      position += length;\n",
              "\n",
              "      const base64 = btoa(String.fromCharCode.apply(null, chunk));\n",
              "      yield {\n",
              "        response: {\n",
              "          action: 'append',\n",
              "          file: file.name,\n",
              "          data: base64,\n",
              "        },\n",
              "      };\n",
              "\n",
              "      let percentDone = fileData.byteLength === 0 ?\n",
              "          100 :\n",
              "          Math.round((position / fileData.byteLength) * 100);\n",
              "      percent.textContent = `${percentDone}% done`;\n",
              "\n",
              "    } while (position < fileData.byteLength);\n",
              "  }\n",
              "\n",
              "  // All done.\n",
              "  yield {\n",
              "    response: {\n",
              "      action: 'complete',\n",
              "    }\n",
              "  };\n",
              "}\n",
              "\n",
              "scope.google = scope.google || {};\n",
              "scope.google.colab = scope.google.colab || {};\n",
              "scope.google.colab._files = {\n",
              "  _uploadFiles,\n",
              "  _uploadFilesContinue,\n",
              "};\n",
              "})(self);\n",
              "</script> "
            ]
          },
          "metadata": {}
        },
        {
          "output_type": "stream",
          "name": "stdout",
          "text": [
            "Saving Loan_default.csv to Loan_default.csv\n"
          ]
        }
      ]
    },
    {
      "cell_type": "code",
      "execution_count": 4,
      "id": "83ead763",
      "metadata": {
        "execution": {
          "iopub.execute_input": "2023-09-16T07:46:40.817066Z",
          "iopub.status.busy": "2023-09-16T07:46:40.816397Z",
          "iopub.status.idle": "2023-09-16T07:46:42.042860Z",
          "shell.execute_reply": "2023-09-16T07:46:42.041697Z"
        },
        "papermill": {
          "duration": 1.513811,
          "end_time": "2023-09-16T07:46:42.045638",
          "exception": false,
          "start_time": "2023-09-16T07:46:40.531827",
          "status": "completed"
        },
        "tags": [],
        "colab": {
          "base_uri": "https://localhost:8080/",
          "height": 444
        },
        "id": "83ead763",
        "outputId": "073b0d36-b58d-444b-9e22-f1cca26dfcd4"
      },
      "outputs": [
        {
          "output_type": "execute_result",
          "data": {
            "text/plain": [
              "            LoanID  Age  Income  LoanAmount  CreditScore  MonthsEmployed  \\\n",
              "0       I38PQUQS96   56   85994       50587          520              80   \n",
              "1       HPSK72WA7R   69   50432      124440          458              15   \n",
              "2       C1OZ6DPJ8Y   46   84208      129188          451              26   \n",
              "3       V2KKSFM3UN   32   31713       44799          743               0   \n",
              "4       EY08JDHTZP   60   20437        9139          633               8   \n",
              "...            ...  ...     ...         ...          ...             ...   \n",
              "255342  8C6S86ESGC   19   37979      210682          541             109   \n",
              "255343  98R4KDHNND   32   51953      189899          511              14   \n",
              "255344  XQK1UUUNGP   56   84820      208294          597              70   \n",
              "255345  JAO28CPL4H   42   85109       60575          809              40   \n",
              "255346  ZTH91CGL0B   62   22418       18481          636             113   \n",
              "\n",
              "        NumCreditLines  InterestRate  LoanTerm  DTIRatio    Education  \\\n",
              "0                    4         15.23        36      0.44   Bachelor's   \n",
              "1                    1          4.81        60      0.68     Master's   \n",
              "2                    3         21.17        24      0.31     Master's   \n",
              "3                    3          7.07        24      0.23  High School   \n",
              "4                    4          6.51        48      0.73   Bachelor's   \n",
              "...                ...           ...       ...       ...          ...   \n",
              "255342               4         14.11        12      0.85   Bachelor's   \n",
              "255343               2         11.55        24      0.21  High School   \n",
              "255344               3          5.29        60      0.50  High School   \n",
              "255345               1         20.90        48      0.44  High School   \n",
              "255346               2          6.73        12      0.48   Bachelor's   \n",
              "\n",
              "       EmploymentType MaritalStatus HasMortgage HasDependents LoanPurpose  \\\n",
              "0           Full-time      Divorced         Yes           Yes       Other   \n",
              "1           Full-time       Married          No            No       Other   \n",
              "2          Unemployed      Divorced         Yes           Yes        Auto   \n",
              "3           Full-time       Married          No            No    Business   \n",
              "4          Unemployed      Divorced          No           Yes        Auto   \n",
              "...               ...           ...         ...           ...         ...   \n",
              "255342      Full-time       Married          No            No       Other   \n",
              "255343      Part-time      Divorced          No            No        Home   \n",
              "255344  Self-employed       Married         Yes           Yes        Auto   \n",
              "255345      Part-time        Single         Yes           Yes       Other   \n",
              "255346     Unemployed      Divorced         Yes            No   Education   \n",
              "\n",
              "       HasCoSigner  Default  \n",
              "0              Yes        0  \n",
              "1              Yes        0  \n",
              "2               No        1  \n",
              "3               No        0  \n",
              "4               No        0  \n",
              "...            ...      ...  \n",
              "255342          No        0  \n",
              "255343          No        1  \n",
              "255344         Yes        0  \n",
              "255345          No        0  \n",
              "255346         Yes        0  \n",
              "\n",
              "[255347 rows x 18 columns]"
            ],
            "text/html": [
              "\n",
              "  <div id=\"df-1329c298-4072-4cf3-8990-1e62c4fd53ae\" class=\"colab-df-container\">\n",
              "    <div>\n",
              "<style scoped>\n",
              "    .dataframe tbody tr th:only-of-type {\n",
              "        vertical-align: middle;\n",
              "    }\n",
              "\n",
              "    .dataframe tbody tr th {\n",
              "        vertical-align: top;\n",
              "    }\n",
              "\n",
              "    .dataframe thead th {\n",
              "        text-align: right;\n",
              "    }\n",
              "</style>\n",
              "<table border=\"1\" class=\"dataframe\">\n",
              "  <thead>\n",
              "    <tr style=\"text-align: right;\">\n",
              "      <th></th>\n",
              "      <th>LoanID</th>\n",
              "      <th>Age</th>\n",
              "      <th>Income</th>\n",
              "      <th>LoanAmount</th>\n",
              "      <th>CreditScore</th>\n",
              "      <th>MonthsEmployed</th>\n",
              "      <th>NumCreditLines</th>\n",
              "      <th>InterestRate</th>\n",
              "      <th>LoanTerm</th>\n",
              "      <th>DTIRatio</th>\n",
              "      <th>Education</th>\n",
              "      <th>EmploymentType</th>\n",
              "      <th>MaritalStatus</th>\n",
              "      <th>HasMortgage</th>\n",
              "      <th>HasDependents</th>\n",
              "      <th>LoanPurpose</th>\n",
              "      <th>HasCoSigner</th>\n",
              "      <th>Default</th>\n",
              "    </tr>\n",
              "  </thead>\n",
              "  <tbody>\n",
              "    <tr>\n",
              "      <th>0</th>\n",
              "      <td>I38PQUQS96</td>\n",
              "      <td>56</td>\n",
              "      <td>85994</td>\n",
              "      <td>50587</td>\n",
              "      <td>520</td>\n",
              "      <td>80</td>\n",
              "      <td>4</td>\n",
              "      <td>15.23</td>\n",
              "      <td>36</td>\n",
              "      <td>0.44</td>\n",
              "      <td>Bachelor's</td>\n",
              "      <td>Full-time</td>\n",
              "      <td>Divorced</td>\n",
              "      <td>Yes</td>\n",
              "      <td>Yes</td>\n",
              "      <td>Other</td>\n",
              "      <td>Yes</td>\n",
              "      <td>0</td>\n",
              "    </tr>\n",
              "    <tr>\n",
              "      <th>1</th>\n",
              "      <td>HPSK72WA7R</td>\n",
              "      <td>69</td>\n",
              "      <td>50432</td>\n",
              "      <td>124440</td>\n",
              "      <td>458</td>\n",
              "      <td>15</td>\n",
              "      <td>1</td>\n",
              "      <td>4.81</td>\n",
              "      <td>60</td>\n",
              "      <td>0.68</td>\n",
              "      <td>Master's</td>\n",
              "      <td>Full-time</td>\n",
              "      <td>Married</td>\n",
              "      <td>No</td>\n",
              "      <td>No</td>\n",
              "      <td>Other</td>\n",
              "      <td>Yes</td>\n",
              "      <td>0</td>\n",
              "    </tr>\n",
              "    <tr>\n",
              "      <th>2</th>\n",
              "      <td>C1OZ6DPJ8Y</td>\n",
              "      <td>46</td>\n",
              "      <td>84208</td>\n",
              "      <td>129188</td>\n",
              "      <td>451</td>\n",
              "      <td>26</td>\n",
              "      <td>3</td>\n",
              "      <td>21.17</td>\n",
              "      <td>24</td>\n",
              "      <td>0.31</td>\n",
              "      <td>Master's</td>\n",
              "      <td>Unemployed</td>\n",
              "      <td>Divorced</td>\n",
              "      <td>Yes</td>\n",
              "      <td>Yes</td>\n",
              "      <td>Auto</td>\n",
              "      <td>No</td>\n",
              "      <td>1</td>\n",
              "    </tr>\n",
              "    <tr>\n",
              "      <th>3</th>\n",
              "      <td>V2KKSFM3UN</td>\n",
              "      <td>32</td>\n",
              "      <td>31713</td>\n",
              "      <td>44799</td>\n",
              "      <td>743</td>\n",
              "      <td>0</td>\n",
              "      <td>3</td>\n",
              "      <td>7.07</td>\n",
              "      <td>24</td>\n",
              "      <td>0.23</td>\n",
              "      <td>High School</td>\n",
              "      <td>Full-time</td>\n",
              "      <td>Married</td>\n",
              "      <td>No</td>\n",
              "      <td>No</td>\n",
              "      <td>Business</td>\n",
              "      <td>No</td>\n",
              "      <td>0</td>\n",
              "    </tr>\n",
              "    <tr>\n",
              "      <th>4</th>\n",
              "      <td>EY08JDHTZP</td>\n",
              "      <td>60</td>\n",
              "      <td>20437</td>\n",
              "      <td>9139</td>\n",
              "      <td>633</td>\n",
              "      <td>8</td>\n",
              "      <td>4</td>\n",
              "      <td>6.51</td>\n",
              "      <td>48</td>\n",
              "      <td>0.73</td>\n",
              "      <td>Bachelor's</td>\n",
              "      <td>Unemployed</td>\n",
              "      <td>Divorced</td>\n",
              "      <td>No</td>\n",
              "      <td>Yes</td>\n",
              "      <td>Auto</td>\n",
              "      <td>No</td>\n",
              "      <td>0</td>\n",
              "    </tr>\n",
              "    <tr>\n",
              "      <th>...</th>\n",
              "      <td>...</td>\n",
              "      <td>...</td>\n",
              "      <td>...</td>\n",
              "      <td>...</td>\n",
              "      <td>...</td>\n",
              "      <td>...</td>\n",
              "      <td>...</td>\n",
              "      <td>...</td>\n",
              "      <td>...</td>\n",
              "      <td>...</td>\n",
              "      <td>...</td>\n",
              "      <td>...</td>\n",
              "      <td>...</td>\n",
              "      <td>...</td>\n",
              "      <td>...</td>\n",
              "      <td>...</td>\n",
              "      <td>...</td>\n",
              "      <td>...</td>\n",
              "    </tr>\n",
              "    <tr>\n",
              "      <th>255342</th>\n",
              "      <td>8C6S86ESGC</td>\n",
              "      <td>19</td>\n",
              "      <td>37979</td>\n",
              "      <td>210682</td>\n",
              "      <td>541</td>\n",
              "      <td>109</td>\n",
              "      <td>4</td>\n",
              "      <td>14.11</td>\n",
              "      <td>12</td>\n",
              "      <td>0.85</td>\n",
              "      <td>Bachelor's</td>\n",
              "      <td>Full-time</td>\n",
              "      <td>Married</td>\n",
              "      <td>No</td>\n",
              "      <td>No</td>\n",
              "      <td>Other</td>\n",
              "      <td>No</td>\n",
              "      <td>0</td>\n",
              "    </tr>\n",
              "    <tr>\n",
              "      <th>255343</th>\n",
              "      <td>98R4KDHNND</td>\n",
              "      <td>32</td>\n",
              "      <td>51953</td>\n",
              "      <td>189899</td>\n",
              "      <td>511</td>\n",
              "      <td>14</td>\n",
              "      <td>2</td>\n",
              "      <td>11.55</td>\n",
              "      <td>24</td>\n",
              "      <td>0.21</td>\n",
              "      <td>High School</td>\n",
              "      <td>Part-time</td>\n",
              "      <td>Divorced</td>\n",
              "      <td>No</td>\n",
              "      <td>No</td>\n",
              "      <td>Home</td>\n",
              "      <td>No</td>\n",
              "      <td>1</td>\n",
              "    </tr>\n",
              "    <tr>\n",
              "      <th>255344</th>\n",
              "      <td>XQK1UUUNGP</td>\n",
              "      <td>56</td>\n",
              "      <td>84820</td>\n",
              "      <td>208294</td>\n",
              "      <td>597</td>\n",
              "      <td>70</td>\n",
              "      <td>3</td>\n",
              "      <td>5.29</td>\n",
              "      <td>60</td>\n",
              "      <td>0.50</td>\n",
              "      <td>High School</td>\n",
              "      <td>Self-employed</td>\n",
              "      <td>Married</td>\n",
              "      <td>Yes</td>\n",
              "      <td>Yes</td>\n",
              "      <td>Auto</td>\n",
              "      <td>Yes</td>\n",
              "      <td>0</td>\n",
              "    </tr>\n",
              "    <tr>\n",
              "      <th>255345</th>\n",
              "      <td>JAO28CPL4H</td>\n",
              "      <td>42</td>\n",
              "      <td>85109</td>\n",
              "      <td>60575</td>\n",
              "      <td>809</td>\n",
              "      <td>40</td>\n",
              "      <td>1</td>\n",
              "      <td>20.90</td>\n",
              "      <td>48</td>\n",
              "      <td>0.44</td>\n",
              "      <td>High School</td>\n",
              "      <td>Part-time</td>\n",
              "      <td>Single</td>\n",
              "      <td>Yes</td>\n",
              "      <td>Yes</td>\n",
              "      <td>Other</td>\n",
              "      <td>No</td>\n",
              "      <td>0</td>\n",
              "    </tr>\n",
              "    <tr>\n",
              "      <th>255346</th>\n",
              "      <td>ZTH91CGL0B</td>\n",
              "      <td>62</td>\n",
              "      <td>22418</td>\n",
              "      <td>18481</td>\n",
              "      <td>636</td>\n",
              "      <td>113</td>\n",
              "      <td>2</td>\n",
              "      <td>6.73</td>\n",
              "      <td>12</td>\n",
              "      <td>0.48</td>\n",
              "      <td>Bachelor's</td>\n",
              "      <td>Unemployed</td>\n",
              "      <td>Divorced</td>\n",
              "      <td>Yes</td>\n",
              "      <td>No</td>\n",
              "      <td>Education</td>\n",
              "      <td>Yes</td>\n",
              "      <td>0</td>\n",
              "    </tr>\n",
              "  </tbody>\n",
              "</table>\n",
              "<p>255347 rows × 18 columns</p>\n",
              "</div>\n",
              "    <div class=\"colab-df-buttons\">\n",
              "\n",
              "  <div class=\"colab-df-container\">\n",
              "    <button class=\"colab-df-convert\" onclick=\"convertToInteractive('df-1329c298-4072-4cf3-8990-1e62c4fd53ae')\"\n",
              "            title=\"Convert this dataframe to an interactive table.\"\n",
              "            style=\"display:none;\">\n",
              "\n",
              "  <svg xmlns=\"http://www.w3.org/2000/svg\" height=\"24px\" viewBox=\"0 -960 960 960\">\n",
              "    <path d=\"M120-120v-720h720v720H120Zm60-500h600v-160H180v160Zm220 220h160v-160H400v160Zm0 220h160v-160H400v160ZM180-400h160v-160H180v160Zm440 0h160v-160H620v160ZM180-180h160v-160H180v160Zm440 0h160v-160H620v160Z\"/>\n",
              "  </svg>\n",
              "    </button>\n",
              "\n",
              "  <style>\n",
              "    .colab-df-container {\n",
              "      display:flex;\n",
              "      gap: 12px;\n",
              "    }\n",
              "\n",
              "    .colab-df-convert {\n",
              "      background-color: #E8F0FE;\n",
              "      border: none;\n",
              "      border-radius: 50%;\n",
              "      cursor: pointer;\n",
              "      display: none;\n",
              "      fill: #1967D2;\n",
              "      height: 32px;\n",
              "      padding: 0 0 0 0;\n",
              "      width: 32px;\n",
              "    }\n",
              "\n",
              "    .colab-df-convert:hover {\n",
              "      background-color: #E2EBFA;\n",
              "      box-shadow: 0px 1px 2px rgba(60, 64, 67, 0.3), 0px 1px 3px 1px rgba(60, 64, 67, 0.15);\n",
              "      fill: #174EA6;\n",
              "    }\n",
              "\n",
              "    .colab-df-buttons div {\n",
              "      margin-bottom: 4px;\n",
              "    }\n",
              "\n",
              "    [theme=dark] .colab-df-convert {\n",
              "      background-color: #3B4455;\n",
              "      fill: #D2E3FC;\n",
              "    }\n",
              "\n",
              "    [theme=dark] .colab-df-convert:hover {\n",
              "      background-color: #434B5C;\n",
              "      box-shadow: 0px 1px 3px 1px rgba(0, 0, 0, 0.15);\n",
              "      filter: drop-shadow(0px 1px 2px rgba(0, 0, 0, 0.3));\n",
              "      fill: #FFFFFF;\n",
              "    }\n",
              "  </style>\n",
              "\n",
              "    <script>\n",
              "      const buttonEl =\n",
              "        document.querySelector('#df-1329c298-4072-4cf3-8990-1e62c4fd53ae button.colab-df-convert');\n",
              "      buttonEl.style.display =\n",
              "        google.colab.kernel.accessAllowed ? 'block' : 'none';\n",
              "\n",
              "      async function convertToInteractive(key) {\n",
              "        const element = document.querySelector('#df-1329c298-4072-4cf3-8990-1e62c4fd53ae');\n",
              "        const dataTable =\n",
              "          await google.colab.kernel.invokeFunction('convertToInteractive',\n",
              "                                                    [key], {});\n",
              "        if (!dataTable) return;\n",
              "\n",
              "        const docLinkHtml = 'Like what you see? Visit the ' +\n",
              "          '<a target=\"_blank\" href=https://colab.research.google.com/notebooks/data_table.ipynb>data table notebook</a>'\n",
              "          + ' to learn more about interactive tables.';\n",
              "        element.innerHTML = '';\n",
              "        dataTable['output_type'] = 'display_data';\n",
              "        await google.colab.output.renderOutput(dataTable, element);\n",
              "        const docLink = document.createElement('div');\n",
              "        docLink.innerHTML = docLinkHtml;\n",
              "        element.appendChild(docLink);\n",
              "      }\n",
              "    </script>\n",
              "  </div>\n",
              "\n",
              "\n",
              "<div id=\"df-b154bba9-60b3-4872-81d8-0f79799f56d5\">\n",
              "  <button class=\"colab-df-quickchart\" onclick=\"quickchart('df-b154bba9-60b3-4872-81d8-0f79799f56d5')\"\n",
              "            title=\"Suggest charts\"\n",
              "            style=\"display:none;\">\n",
              "\n",
              "<svg xmlns=\"http://www.w3.org/2000/svg\" height=\"24px\"viewBox=\"0 0 24 24\"\n",
              "     width=\"24px\">\n",
              "    <g>\n",
              "        <path d=\"M19 3H5c-1.1 0-2 .9-2 2v14c0 1.1.9 2 2 2h14c1.1 0 2-.9 2-2V5c0-1.1-.9-2-2-2zM9 17H7v-7h2v7zm4 0h-2V7h2v10zm4 0h-2v-4h2v4z\"/>\n",
              "    </g>\n",
              "</svg>\n",
              "  </button>\n",
              "\n",
              "<style>\n",
              "  .colab-df-quickchart {\n",
              "      --bg-color: #E8F0FE;\n",
              "      --fill-color: #1967D2;\n",
              "      --hover-bg-color: #E2EBFA;\n",
              "      --hover-fill-color: #174EA6;\n",
              "      --disabled-fill-color: #AAA;\n",
              "      --disabled-bg-color: #DDD;\n",
              "  }\n",
              "\n",
              "  [theme=dark] .colab-df-quickchart {\n",
              "      --bg-color: #3B4455;\n",
              "      --fill-color: #D2E3FC;\n",
              "      --hover-bg-color: #434B5C;\n",
              "      --hover-fill-color: #FFFFFF;\n",
              "      --disabled-bg-color: #3B4455;\n",
              "      --disabled-fill-color: #666;\n",
              "  }\n",
              "\n",
              "  .colab-df-quickchart {\n",
              "    background-color: var(--bg-color);\n",
              "    border: none;\n",
              "    border-radius: 50%;\n",
              "    cursor: pointer;\n",
              "    display: none;\n",
              "    fill: var(--fill-color);\n",
              "    height: 32px;\n",
              "    padding: 0;\n",
              "    width: 32px;\n",
              "  }\n",
              "\n",
              "  .colab-df-quickchart:hover {\n",
              "    background-color: var(--hover-bg-color);\n",
              "    box-shadow: 0 1px 2px rgba(60, 64, 67, 0.3), 0 1px 3px 1px rgba(60, 64, 67, 0.15);\n",
              "    fill: var(--button-hover-fill-color);\n",
              "  }\n",
              "\n",
              "  .colab-df-quickchart-complete:disabled,\n",
              "  .colab-df-quickchart-complete:disabled:hover {\n",
              "    background-color: var(--disabled-bg-color);\n",
              "    fill: var(--disabled-fill-color);\n",
              "    box-shadow: none;\n",
              "  }\n",
              "\n",
              "  .colab-df-spinner {\n",
              "    border: 2px solid var(--fill-color);\n",
              "    border-color: transparent;\n",
              "    border-bottom-color: var(--fill-color);\n",
              "    animation:\n",
              "      spin 1s steps(1) infinite;\n",
              "  }\n",
              "\n",
              "  @keyframes spin {\n",
              "    0% {\n",
              "      border-color: transparent;\n",
              "      border-bottom-color: var(--fill-color);\n",
              "      border-left-color: var(--fill-color);\n",
              "    }\n",
              "    20% {\n",
              "      border-color: transparent;\n",
              "      border-left-color: var(--fill-color);\n",
              "      border-top-color: var(--fill-color);\n",
              "    }\n",
              "    30% {\n",
              "      border-color: transparent;\n",
              "      border-left-color: var(--fill-color);\n",
              "      border-top-color: var(--fill-color);\n",
              "      border-right-color: var(--fill-color);\n",
              "    }\n",
              "    40% {\n",
              "      border-color: transparent;\n",
              "      border-right-color: var(--fill-color);\n",
              "      border-top-color: var(--fill-color);\n",
              "    }\n",
              "    60% {\n",
              "      border-color: transparent;\n",
              "      border-right-color: var(--fill-color);\n",
              "    }\n",
              "    80% {\n",
              "      border-color: transparent;\n",
              "      border-right-color: var(--fill-color);\n",
              "      border-bottom-color: var(--fill-color);\n",
              "    }\n",
              "    90% {\n",
              "      border-color: transparent;\n",
              "      border-bottom-color: var(--fill-color);\n",
              "    }\n",
              "  }\n",
              "</style>\n",
              "\n",
              "  <script>\n",
              "    async function quickchart(key) {\n",
              "      const quickchartButtonEl =\n",
              "        document.querySelector('#' + key + ' button');\n",
              "      quickchartButtonEl.disabled = true;  // To prevent multiple clicks.\n",
              "      quickchartButtonEl.classList.add('colab-df-spinner');\n",
              "      try {\n",
              "        const charts = await google.colab.kernel.invokeFunction(\n",
              "            'suggestCharts', [key], {});\n",
              "      } catch (error) {\n",
              "        console.error('Error during call to suggestCharts:', error);\n",
              "      }\n",
              "      quickchartButtonEl.classList.remove('colab-df-spinner');\n",
              "      quickchartButtonEl.classList.add('colab-df-quickchart-complete');\n",
              "    }\n",
              "    (() => {\n",
              "      let quickchartButtonEl =\n",
              "        document.querySelector('#df-b154bba9-60b3-4872-81d8-0f79799f56d5 button');\n",
              "      quickchartButtonEl.style.display =\n",
              "        google.colab.kernel.accessAllowed ? 'block' : 'none';\n",
              "    })();\n",
              "  </script>\n",
              "</div>\n",
              "    </div>\n",
              "  </div>\n"
            ]
          },
          "metadata": {},
          "execution_count": 4
        }
      ],
      "source": [
        "import io\n",
        "data = pd.read_csv(io.StringIO(uploaded[file_name].decode('utf-8')))\n",
        "data"
      ]
    },
    {
      "cell_type": "markdown",
      "id": "4b4864d7",
      "metadata": {
        "papermill": {
          "duration": 0.260451,
          "end_time": "2023-09-16T07:46:42.587608",
          "exception": false,
          "start_time": "2023-09-16T07:46:42.327157",
          "status": "completed"
        },
        "tags": [],
        "id": "4b4864d7"
      },
      "source": [
        "# CHECK DATA"
      ]
    },
    {
      "cell_type": "code",
      "execution_count": 5,
      "id": "7048ee75",
      "metadata": {
        "execution": {
          "iopub.execute_input": "2023-09-16T07:46:43.122635Z",
          "iopub.status.busy": "2023-09-16T07:46:43.122015Z",
          "iopub.status.idle": "2023-09-16T07:46:43.773893Z",
          "shell.execute_reply": "2023-09-16T07:46:43.772740Z"
        },
        "papermill": {
          "duration": 0.923996,
          "end_time": "2023-09-16T07:46:43.776370",
          "exception": false,
          "start_time": "2023-09-16T07:46:42.852374",
          "status": "completed"
        },
        "tags": [],
        "id": "7048ee75",
        "outputId": "ac57c7c4-eca3-409e-a84f-cbfd4cdb81f6",
        "colab": {
          "base_uri": "https://localhost:8080/"
        }
      },
      "outputs": [
        {
          "output_type": "execute_result",
          "data": {
            "text/plain": [
              "LoanID            0\n",
              "Age               0\n",
              "Income            0\n",
              "LoanAmount        0\n",
              "CreditScore       0\n",
              "MonthsEmployed    0\n",
              "NumCreditLines    0\n",
              "InterestRate      0\n",
              "LoanTerm          0\n",
              "DTIRatio          0\n",
              "Education         0\n",
              "EmploymentType    0\n",
              "MaritalStatus     0\n",
              "HasMortgage       0\n",
              "HasDependents     0\n",
              "LoanPurpose       0\n",
              "HasCoSigner       0\n",
              "Default           0\n",
              "dtype: int64"
            ]
          },
          "metadata": {},
          "execution_count": 5
        }
      ],
      "source": [
        "data.isnull().sum()"
      ]
    },
    {
      "cell_type": "code",
      "execution_count": 6,
      "id": "dd37b51b",
      "metadata": {
        "execution": {
          "iopub.execute_input": "2023-09-16T07:46:44.308241Z",
          "iopub.status.busy": "2023-09-16T07:46:44.307819Z",
          "iopub.status.idle": "2023-09-16T07:46:44.961598Z",
          "shell.execute_reply": "2023-09-16T07:46:44.959714Z"
        },
        "papermill": {
          "duration": 0.922954,
          "end_time": "2023-09-16T07:46:44.964449",
          "exception": false,
          "start_time": "2023-09-16T07:46:44.041495",
          "status": "completed"
        },
        "tags": [],
        "id": "dd37b51b",
        "outputId": "cad25fc3-ab8d-4137-f199-7153fa05c0c9",
        "colab": {
          "base_uri": "https://localhost:8080/"
        }
      },
      "outputs": [
        {
          "output_type": "stream",
          "name": "stdout",
          "text": [
            "<class 'pandas.core.frame.DataFrame'>\n",
            "RangeIndex: 255347 entries, 0 to 255346\n",
            "Data columns (total 18 columns):\n",
            " #   Column          Non-Null Count   Dtype  \n",
            "---  ------          --------------   -----  \n",
            " 0   LoanID          255347 non-null  object \n",
            " 1   Age             255347 non-null  int64  \n",
            " 2   Income          255347 non-null  int64  \n",
            " 3   LoanAmount      255347 non-null  int64  \n",
            " 4   CreditScore     255347 non-null  int64  \n",
            " 5   MonthsEmployed  255347 non-null  int64  \n",
            " 6   NumCreditLines  255347 non-null  int64  \n",
            " 7   InterestRate    255347 non-null  float64\n",
            " 8   LoanTerm        255347 non-null  int64  \n",
            " 9   DTIRatio        255347 non-null  float64\n",
            " 10  Education       255347 non-null  object \n",
            " 11  EmploymentType  255347 non-null  object \n",
            " 12  MaritalStatus   255347 non-null  object \n",
            " 13  HasMortgage     255347 non-null  object \n",
            " 14  HasDependents   255347 non-null  object \n",
            " 15  LoanPurpose     255347 non-null  object \n",
            " 16  HasCoSigner     255347 non-null  object \n",
            " 17  Default         255347 non-null  int64  \n",
            "dtypes: float64(2), int64(8), object(8)\n",
            "memory usage: 35.1+ MB\n"
          ]
        }
      ],
      "source": [
        "data.info()"
      ]
    },
    {
      "cell_type": "markdown",
      "id": "6c7c2a56",
      "metadata": {
        "papermill": {
          "duration": 0.263683,
          "end_time": "2023-09-16T07:46:45.491959",
          "exception": false,
          "start_time": "2023-09-16T07:46:45.228276",
          "status": "completed"
        },
        "tags": [],
        "id": "6c7c2a56"
      },
      "source": [
        "# LABEL ENCODER"
      ]
    },
    {
      "cell_type": "code",
      "execution_count": 7,
      "id": "438f3cc5",
      "metadata": {
        "execution": {
          "iopub.execute_input": "2023-09-16T07:46:46.027105Z",
          "iopub.status.busy": "2023-09-16T07:46:46.025476Z",
          "iopub.status.idle": "2023-09-16T07:46:46.732835Z",
          "shell.execute_reply": "2023-09-16T07:46:46.731307Z"
        },
        "papermill": {
          "duration": 0.978141,
          "end_time": "2023-09-16T07:46:46.735869",
          "exception": false,
          "start_time": "2023-09-16T07:46:45.757728",
          "status": "completed"
        },
        "tags": [],
        "id": "438f3cc5"
      },
      "outputs": [],
      "source": [
        "from sklearn.preprocessing import LabelEncoder\n",
        "le = LabelEncoder()\n",
        "obj_col = ['HasCoSigner','LoanPurpose','HasDependents', 'HasMortgage','MaritalStatus', 'EmploymentType', 'Education']\n",
        "for col in obj_col:\n",
        "    data[col] = le.fit_transform(data[col])\n",
        "\n",
        "data = data.drop(['LoanID'], axis=1)"
      ]
    },
    {
      "cell_type": "code",
      "execution_count": 8,
      "id": "797ac812",
      "metadata": {
        "execution": {
          "iopub.execute_input": "2023-09-16T07:46:47.283281Z",
          "iopub.status.busy": "2023-09-16T07:46:47.282624Z",
          "iopub.status.idle": "2023-09-16T07:46:47.295317Z",
          "shell.execute_reply": "2023-09-16T07:46:47.294078Z"
        },
        "papermill": {
          "duration": 0.295973,
          "end_time": "2023-09-16T07:46:47.299047",
          "exception": false,
          "start_time": "2023-09-16T07:46:47.003074",
          "status": "completed"
        },
        "tags": [],
        "id": "797ac812",
        "outputId": "a210f411-1dfc-4ff3-b841-79bb1466f8b9",
        "colab": {
          "base_uri": "https://localhost:8080/"
        }
      },
      "outputs": [
        {
          "output_type": "execute_result",
          "data": {
            "text/plain": [
              "Age                 int64\n",
              "Income              int64\n",
              "LoanAmount          int64\n",
              "CreditScore         int64\n",
              "MonthsEmployed      int64\n",
              "NumCreditLines      int64\n",
              "InterestRate      float64\n",
              "LoanTerm            int64\n",
              "DTIRatio          float64\n",
              "Education           int64\n",
              "EmploymentType      int64\n",
              "MaritalStatus       int64\n",
              "HasMortgage         int64\n",
              "HasDependents       int64\n",
              "LoanPurpose         int64\n",
              "HasCoSigner         int64\n",
              "Default             int64\n",
              "dtype: object"
            ]
          },
          "metadata": {},
          "execution_count": 8
        }
      ],
      "source": [
        "data.dtypes"
      ]
    },
    {
      "cell_type": "markdown",
      "id": "a05bdf80",
      "metadata": {
        "papermill": {
          "duration": 0.262919,
          "end_time": "2023-09-16T07:46:47.872986",
          "exception": false,
          "start_time": "2023-09-16T07:46:47.610067",
          "status": "completed"
        },
        "tags": [],
        "id": "a05bdf80"
      },
      "source": [
        "# CORRELATIONS WITH TARGET"
      ]
    },
    {
      "cell_type": "code",
      "execution_count": 9,
      "id": "d95461d1",
      "metadata": {
        "execution": {
          "iopub.execute_input": "2023-09-16T07:46:48.408851Z",
          "iopub.status.busy": "2023-09-16T07:46:48.408371Z",
          "iopub.status.idle": "2023-09-16T07:46:48.492528Z",
          "shell.execute_reply": "2023-09-16T07:46:48.490495Z"
        },
        "papermill": {
          "duration": 0.355485,
          "end_time": "2023-09-16T07:46:48.495242",
          "exception": false,
          "start_time": "2023-09-16T07:46:48.139757",
          "status": "completed"
        },
        "tags": [],
        "id": "d95461d1",
        "outputId": "9ce32c91-78e3-46d8-abe9-7e430a34d720",
        "colab": {
          "base_uri": "https://localhost:8080/"
        }
      },
      "outputs": [
        {
          "output_type": "stream",
          "name": "stdout",
          "text": [
            "Default           1.000000\n",
            "InterestRate      0.131273\n",
            "LoanAmount        0.086659\n",
            "EmploymentType    0.041010\n",
            "NumCreditLines    0.028330\n",
            "DTIRatio          0.019236\n",
            "LoanTerm          0.000545\n",
            "MaritalStatus    -0.007902\n",
            "LoanPurpose      -0.010096\n",
            "Education        -0.022835\n",
            "HasMortgage      -0.022856\n",
            "CreditScore      -0.034166\n",
            "HasDependents    -0.034678\n",
            "HasCoSigner      -0.039109\n",
            "MonthsEmployed   -0.097374\n",
            "Income           -0.099119\n",
            "Age              -0.167783\n",
            "dtype: float64\n"
          ]
        }
      ],
      "source": [
        "corr = data.corrwith(data['Default'])\n",
        "print(corr.sort_values(ascending=False))"
      ]
    },
    {
      "cell_type": "code",
      "execution_count": 10,
      "id": "9e33aec9",
      "metadata": {
        "execution": {
          "iopub.execute_input": "2023-09-16T07:46:49.030732Z",
          "iopub.status.busy": "2023-09-16T07:46:49.029918Z",
          "iopub.status.idle": "2023-09-16T07:46:50.257088Z",
          "shell.execute_reply": "2023-09-16T07:46:50.255868Z"
        },
        "papermill": {
          "duration": 1.499024,
          "end_time": "2023-09-16T07:46:50.260069",
          "exception": false,
          "start_time": "2023-09-16T07:46:48.761045",
          "status": "completed"
        },
        "tags": [],
        "id": "9e33aec9",
        "outputId": "30208684-4575-405a-928e-48645c8f869e",
        "colab": {
          "base_uri": "https://localhost:8080/",
          "height": 805
        }
      },
      "outputs": [
        {
          "output_type": "execute_result",
          "data": {
            "text/plain": [
              "<Axes: >"
            ]
          },
          "metadata": {},
          "execution_count": 10
        },
        {
          "output_type": "display_data",
          "data": {
            "text/plain": [
              "<Figure size 1200x800 with 2 Axes>"
            ],
            "image/png": "[encoded data removed]"
          },
          "metadata": {}
        }
      ],
      "source": [
        "import seaborn as sns\n",
        "import matplotlib.pyplot as plt\n",
        "\n",
        "plt.figure(figsize=(12,8))\n",
        "corr2 = data.corr()\n",
        "sns.heatmap(corr2, annot=True, cmap='Set1')"
      ]
    },
    {
      "cell_type": "markdown",
      "id": "4d839026",
      "metadata": {
        "papermill": {
          "duration": 0.299425,
          "end_time": "2023-09-16T07:47:02.852794",
          "exception": false,
          "start_time": "2023-09-16T07:47:02.553369",
          "status": "completed"
        },
        "tags": [],
        "id": "4d839026"
      },
      "source": [
        "# SPLIT DATA FOR CLASSIFICATION"
      ]
    },
    {
      "cell_type": "code",
      "execution_count": 11,
      "id": "d914d041",
      "metadata": {
        "execution": {
          "iopub.execute_input": "2023-09-16T07:47:03.448133Z",
          "iopub.status.busy": "2023-09-16T07:47:03.447753Z",
          "iopub.status.idle": "2023-09-16T07:47:03.473987Z",
          "shell.execute_reply": "2023-09-16T07:47:03.472844Z"
        },
        "papermill": {
          "duration": 0.326913,
          "end_time": "2023-09-16T07:47:03.476633",
          "exception": false,
          "start_time": "2023-09-16T07:47:03.149720",
          "status": "completed"
        },
        "tags": [],
        "id": "d914d041"
      },
      "outputs": [],
      "source": [
        "X = data.drop(['Default'], axis=1)\n",
        "y = data['Default']"
      ]
    },
    {
      "cell_type": "markdown",
      "id": "1f00d19a",
      "metadata": {
        "papermill": {
          "duration": 0.297491,
          "end_time": "2023-09-16T07:47:04.077778",
          "exception": false,
          "start_time": "2023-09-16T07:47:03.780287",
          "status": "completed"
        },
        "tags": [],
        "id": "1f00d19a"
      },
      "source": [
        "# TAKE SIX DIFFERENT MODELS - CLASSIFIERS"
      ]
    },
    {
      "cell_type": "code",
      "execution_count": 12,
      "id": "55946c5c",
      "metadata": {
        "execution": {
          "iopub.execute_input": "2023-09-16T07:47:04.714287Z",
          "iopub.status.busy": "2023-09-16T07:47:04.713880Z",
          "iopub.status.idle": "2023-09-16T07:49:34.186816Z",
          "shell.execute_reply": "2023-09-16T07:49:34.185848Z"
        },
        "papermill": {
          "duration": 150.088783,
          "end_time": "2023-09-16T07:49:34.501923",
          "exception": false,
          "start_time": "2023-09-16T07:47:04.413140",
          "status": "completed"
        },
        "tags": [],
        "id": "55946c5c",
        "outputId": "e6728693-4a8d-4d45-995c-d7189ea8222d",
        "colab": {
          "base_uri": "https://localhost:8080/"
        }
      },
      "outputs": [
        {
          "output_type": "stream",
          "name": "stdout",
          "text": [
            "XGBClassifier - Precision: 0.89\n",
            "RandomForestClassifier - Precision: 0.89\n",
            "LogisticRegression - Precision: 0.88\n",
            "KNeighborsClassifier - Precision: 0.87\n",
            "GaussianNB - Precision: 0.88\n"
          ]
        }
      ],
      "source": [
        "from sklearn.model_selection import train_test_split\n",
        "from sklearn.metrics import accuracy_score\n",
        "from xgboost import XGBClassifier\n",
        "from sklearn.ensemble import RandomForestClassifier\n",
        "from sklearn.linear_model import LogisticRegression\n",
        "from sklearn.neighbors import KNeighborsClassifier\n",
        "from sklearn.naive_bayes import GaussianNB\n",
        "\n",
        "X_train, X_test, y_train, y_test = train_test_split(X, y, test_size=0.20, random_state=42)\n",
        "\n",
        "models = [\n",
        "    XGBClassifier(),\n",
        "    RandomForestClassifier(),\n",
        "    LogisticRegression(),\n",
        "    KNeighborsClassifier(),\n",
        "    GaussianNB()\n",
        "]\n",
        "\n",
        "for model in models:\n",
        "    model.fit(X_train, y_train)\n",
        "    y_pred = model.predict(X_test)\n",
        "    score = accuracy_score(y_pred, y_test)\n",
        "    model_name = model.__class__.__name__\n",
        "    print(f'{model_name} - Precision: {score:.2f}')"
      ]
    },
    {
      "cell_type": "markdown",
      "id": "6b356c9c",
      "metadata": {
        "papermill": {
          "duration": 0.302031,
          "end_time": "2023-09-16T07:49:35.105210",
          "exception": false,
          "start_time": "2023-09-16T07:49:34.803179",
          "status": "completed"
        },
        "tags": [],
        "id": "6b356c9c"
      },
      "source": [
        "# TRY PYTORCH\n"
      ]
    },
    {
      "cell_type": "code",
      "execution_count": 23,
      "id": "7d7242fa",
      "metadata": {
        "execution": {
          "iopub.execute_input": "2023-09-16T07:49:35.705193Z",
          "iopub.status.busy": "2023-09-16T07:49:35.704027Z",
          "iopub.status.idle": "2023-09-16T07:49:36.899905Z",
          "shell.execute_reply": "2023-09-16T07:49:36.898402Z"
        },
        "papermill": {
          "duration": 1.501924,
          "end_time": "2023-09-16T07:49:36.903968",
          "exception": false,
          "start_time": "2023-09-16T07:49:35.402044",
          "status": "completed"
        },
        "tags": [],
        "id": "7d7242fa",
        "colab": {
          "base_uri": "https://localhost:8080/",
          "height": 247
        },
        "outputId": "209cc12c-88da-4b01-f890-4e904b1345b6"
      },
      "outputs": [
        {
          "output_type": "error",
          "ename": "RuntimeError",
          "evalue": "ignored",
          "traceback": [
            "\u001b[0;31m---------------------------------------------------------------------------\u001b[0m",
            "\u001b[0;31mRuntimeError\u001b[0m                              Traceback (most recent call last)",
            "\u001b[0;32m<ipython-input-23-b4ee69c512b5>\u001b[0m in \u001b[0;36m<cell line: 1>\u001b[0;34m()\u001b[0m\n\u001b[0;32m----> 1\u001b[0;31m \u001b[0mX_train\u001b[0m \u001b[0;34m=\u001b[0m \u001b[0mtr\u001b[0m\u001b[0;34m.\u001b[0m\u001b[0mtensor\u001b[0m\u001b[0;34m(\u001b[0m\u001b[0mX_train\u001b[0m\u001b[0;34m.\u001b[0m\u001b[0mvalues\u001b[0m\u001b[0;34m)\u001b[0m\u001b[0;34m\u001b[0m\u001b[0;34m\u001b[0m\u001b[0m\n\u001b[0m\u001b[1;32m      2\u001b[0m \u001b[0;31m#X_train.to(tr.float32)\u001b[0m\u001b[0;34m\u001b[0m\u001b[0;34m\u001b[0m\u001b[0m\n\u001b[1;32m      3\u001b[0m \u001b[0mX_test\u001b[0m \u001b[0;34m=\u001b[0m \u001b[0mtr\u001b[0m\u001b[0;34m.\u001b[0m\u001b[0mtensor\u001b[0m\u001b[0;34m(\u001b[0m\u001b[0mX_test\u001b[0m\u001b[0;34m.\u001b[0m\u001b[0mvalues\u001b[0m\u001b[0;34m)\u001b[0m\u001b[0;34m\u001b[0m\u001b[0;34m\u001b[0m\u001b[0m\n\u001b[1;32m      4\u001b[0m \u001b[0mX_train\u001b[0m\u001b[0;34m.\u001b[0m\u001b[0mto\u001b[0m\u001b[0;34m(\u001b[0m\u001b[0mtr\u001b[0m\u001b[0;34m.\u001b[0m\u001b[0mfloat32\u001b[0m\u001b[0;34m)\u001b[0m\u001b[0;34m\u001b[0m\u001b[0;34m\u001b[0m\u001b[0m\n\u001b[1;32m      5\u001b[0m \u001b[0my_train\u001b[0m \u001b[0;34m=\u001b[0m \u001b[0mtr\u001b[0m\u001b[0;34m.\u001b[0m\u001b[0mtensor\u001b[0m\u001b[0;34m(\u001b[0m\u001b[0my_train\u001b[0m\u001b[0;34m.\u001b[0m\u001b[0mvalues\u001b[0m\u001b[0;34m)\u001b[0m\u001b[0;34m\u001b[0m\u001b[0;34m\u001b[0m\u001b[0m\n",
            "\u001b[0;31mRuntimeError\u001b[0m: Could not infer dtype of builtin_function_or_method"
          ]
        }
      ],
      "source": [
        "X_train = tr.tensor(X_train.values)\n",
        "X_test = tr.tensor(X_test.values)\n",
        "y_train = tr.tensor(y_train.values)\n",
        "y_test = tr.tensor(y_test.values)"
      ]
    },
    {
      "cell_type": "code",
      "source": [
        "X_train = X_train.to(tr.float32)\n",
        "X_test = X_test.to(tr.float32)\n",
        "y_train = y_train.to(tr.float32)\n",
        "y_test = y_test.to(tr.float32)"
      ],
      "metadata": {
        "id": "f805DLSbDClI"
      },
      "id": "f805DLSbDClI",
      "execution_count": 28,
      "outputs": []
    },
    {
      "cell_type": "code",
      "execution_count": 29,
      "id": "d5f4248f",
      "metadata": {
        "papermill": {
          "duration": 0.300132,
          "end_time": "2023-09-16T07:49:38.791039",
          "exception": false,
          "start_time": "2023-09-16T07:49:38.490907",
          "status": "completed"
        },
        "tags": [],
        "id": "d5f4248f",
        "colab": {
          "base_uri": "https://localhost:8080/"
        },
        "outputId": "a67dccb4-c277-4c43-ccb0-c5c85cc56b25"
      },
      "outputs": [
        {
          "output_type": "stream",
          "name": "stdout",
          "text": [
            "tensor([[1.8000e+01, 1.3758e+05, 2.0914e+05,  ..., 0.0000e+00, 1.0000e+00,\n",
            "         0.0000e+00],\n",
            "        [4.7000e+01, 5.7194e+04, 5.9700e+03,  ..., 1.0000e+00, 2.0000e+00,\n",
            "         0.0000e+00],\n",
            "        [2.6000e+01, 8.4328e+04, 9.5065e+04,  ..., 0.0000e+00, 4.0000e+00,\n",
            "         1.0000e+00],\n",
            "        ...,\n",
            "        [6.2000e+01, 3.4372e+04, 5.9645e+04,  ..., 0.0000e+00, 0.0000e+00,\n",
            "         0.0000e+00],\n",
            "        [4.4000e+01, 1.4626e+05, 1.9845e+05,  ..., 0.0000e+00, 3.0000e+00,\n",
            "         0.0000e+00],\n",
            "        [3.6000e+01, 9.7844e+04, 1.8859e+05,  ..., 0.0000e+00, 3.0000e+00,\n",
            "         0.0000e+00]])\n",
            "tensor([[5.5000e+01, 1.1266e+05, 9.2393e+04,  ..., 1.0000e+00, 3.0000e+00,\n",
            "         0.0000e+00],\n",
            "        [5.6000e+01, 9.1569e+04, 1.3158e+05,  ..., 1.0000e+00, 2.0000e+00,\n",
            "         1.0000e+00],\n",
            "        [2.6000e+01, 7.8169e+04, 7.5417e+04,  ..., 1.0000e+00, 2.0000e+00,\n",
            "         1.0000e+00],\n",
            "        ...,\n",
            "        [6.7000e+01, 8.8507e+04, 1.4267e+05,  ..., 0.0000e+00, 2.0000e+00,\n",
            "         0.0000e+00],\n",
            "        [4.2000e+01, 1.1665e+05, 1.9094e+05,  ..., 1.0000e+00, 4.0000e+00,\n",
            "         1.0000e+00],\n",
            "        [4.9000e+01, 9.0420e+04, 8.3956e+04,  ..., 0.0000e+00, 2.0000e+00,\n",
            "         0.0000e+00]])\n",
            "tensor([0., 0., 0.,  ..., 0., 0., 1.])\n",
            "tensor([0., 0., 0.,  ..., 0., 0., 0.])\n",
            "torch.Size([204277, 16])\n",
            "torch.Size([51070, 16])\n",
            "torch.Size([204277])\n",
            "torch.Size([51070])\n"
          ]
        }
      ],
      "source": [
        "print(X_train)\n",
        "print(X_test)\n",
        "print(y_train)\n",
        "print(y_test)\n",
        "print(X_train.size())\n",
        "print(X_test.size())\n",
        "print(y_train.size())\n",
        "print(y_test.size())"
      ]
    },
    {
      "cell_type": "code",
      "source": [
        "device = \"cuda\" if tr.cuda.is_available() else \"cpu\"\n",
        "device"
      ],
      "metadata": {
        "colab": {
          "base_uri": "https://localhost:8080/",
          "height": 35
        },
        "id": "h8YAtWuIz3ZL",
        "outputId": "5a48b38b-247c-483d-dff7-ee165a258aa8"
      },
      "id": "h8YAtWuIz3ZL",
      "execution_count": 30,
      "outputs": [
        {
          "output_type": "execute_result",
          "data": {
            "text/plain": [
              "'cpu'"
            ],
            "application/vnd.google.colaboratory.intrinsic+json": {
              "type": "string"
            }
          },
          "metadata": {},
          "execution_count": 30
        }
      ]
    },
    {
      "cell_type": "code",
      "source": [
        "from torch import nn"
      ],
      "metadata": {
        "id": "UAygOGHG1cJD"
      },
      "id": "UAygOGHG1cJD",
      "execution_count": 31,
      "outputs": []
    },
    {
      "cell_type": "code",
      "source": [
        "# 1. Construct a model class that subclasses nn.Module\n",
        "class PersonalDefaultModelV0(nn.Module):\n",
        "    def __init__(self):\n",
        "        super().__init__()\n",
        "        # 2. Create 2 nn.Linear layers capable of handling X and y input and output shapes\n",
        "        self.layer_1 = nn.Linear(in_features=16, out_features=20) #\n",
        "        self.layer_2 = nn.Linear(in_features=20, out_features=20) #\n",
        "        self.layer_3 = nn.Linear(in_features=20, out_features=1) #\n",
        "        self.relu = nn.ReLU()\n",
        "    # 3. Define a forward method containing the forward pass computation\n",
        "    def forward(self, x):\n",
        "        # Return the output of layer_2, a single feature, the same shape as y\n",
        "        return self.layer_3(self.layer_2(self.layer_1(x))) # computation goes through layer_1 first then the output of layer_1 goes through layer_2\n",
        "\n",
        "# 4. Create an instance of the model and send it to target device\n",
        "model_0 = PersonalDefaultModelV0().to(device)\n",
        "model_0"
      ],
      "metadata": {
        "colab": {
          "base_uri": "https://localhost:8080/"
        },
        "id": "JGOF7HIJz6Gs",
        "outputId": "c3e985a7-9823-42da-9755-4b16e20d6f56"
      },
      "id": "JGOF7HIJz6Gs",
      "execution_count": 36,
      "outputs": [
        {
          "output_type": "execute_result",
          "data": {
            "text/plain": [
              "PersonalDefaultModelV0(\n",
              "  (layer_1): Linear(in_features=16, out_features=20, bias=True)\n",
              "  (layer_2): Linear(in_features=20, out_features=20, bias=True)\n",
              "  (layer_3): Linear(in_features=20, out_features=1, bias=True)\n",
              "  (relu): ReLU()\n",
              ")"
            ]
          },
          "metadata": {},
          "execution_count": 36
        }
      ]
    },
    {
      "cell_type": "code",
      "source": [
        "# Create a loss function\n",
        "# loss_fn = nn.BCELoss() # BCELoss = no sigmoid built-in\n",
        "loss_fn = nn.BCEWithLogitsLoss() # BCEWithLogitsLoss = sigmoid built-in\n",
        "\n",
        "# Create an optimizer\n",
        "optimizer = tr.optim.SGD(params=model_0.parameters(), lr=0.1)"
      ],
      "metadata": {
        "id": "s3_qM0Bq2NYA"
      },
      "id": "s3_qM0Bq2NYA",
      "execution_count": 37,
      "outputs": []
    },
    {
      "cell_type": "code",
      "source": [
        "# Calculate accuracy (a classification metric)\n",
        "def accuracy_fn(y_true, y_pred):\n",
        "    correct = tr.eq(y_true, y_pred).sum().item() # torch.eq() calculates where two tensors are equal\n",
        "    acc = (correct / len(y_pred)) * 100\n",
        "    return acc"
      ],
      "metadata": {
        "id": "uOmHIxvQ2ZM_"
      },
      "id": "uOmHIxvQ2ZM_",
      "execution_count": 38,
      "outputs": []
    },
    {
      "cell_type": "code",
      "source": [
        "# Set the number of epochs\n",
        "epochs = 100\n",
        "\n",
        "# Put data to target device\n",
        "X_train, y_train = X_train.to(device), y_train.to(device)\n",
        "X_test, y_test = X_test.to(device), y_test.to(device)\n",
        "\n",
        "# Build training and evaluation loop\n",
        "for epoch in range(epochs):\n",
        "    ### Training\n",
        "    model_0.train()\n",
        "\n",
        "    # 1. Forward pass (model outputs raw logits)\n",
        "    y_logits = model_0(X_train).squeeze() # squeeze to remove extra `1` dimensions, this won't work unless model and data are on same device\n",
        "    y_pred = tr.round(tr.sigmoid(y_logits)) # turn logits -> pred probs -> pred labls\n",
        "\n",
        "    # 2. Calculate loss/accuracy\n",
        "    # loss = loss_fn(tr.sigmoid(y_logits), # Using nn.BCELoss you need tr.sigmoid()\n",
        "    #                y_train)\n",
        "    loss = loss_fn(y_logits, # Using nn.BCEWithLogitsLoss works with raw logits\n",
        "                   y_train)\n",
        "    acc = accuracy_fn(y_true=y_train,\n",
        "                      y_pred=y_pred)\n",
        "\n",
        "    # 3. Optimizer zero grad\n",
        "    optimizer.zero_grad()\n",
        "\n",
        "    # 4. Loss backwards\n",
        "    loss.backward()\n",
        "\n",
        "    # 5. Optimizer step\n",
        "    optimizer.step()\n",
        "\n",
        "    ### Testing\n",
        "    model_0.eval()\n",
        "    with tr.inference_mode():\n",
        "        # 1. Forward pass\n",
        "        test_logits = model_0(X_test).squeeze()\n",
        "        test_pred = tr.round(tr.sigmoid(test_logits))\n",
        "        # 2. Caculate loss/accuracy\n",
        "        test_loss = loss_fn(test_logits,\n",
        "                            y_test)\n",
        "        test_acc = accuracy_fn(y_true=y_test,\n",
        "                               y_pred=test_pred)\n",
        "\n",
        "    # Print out what's happening every 10 epochs\n",
        "    if epoch % 10 == 0:\n",
        "        print(f\"Epoch: {epoch} | Loss: {loss:.5f}, Accuracy: {acc:.2f}% | Test Loss: {test_loss:.5f}, Test Accuracy: {test_acc:.2f}%\")"
      ],
      "metadata": {
        "colab": {
          "base_uri": "https://localhost:8080/"
        },
        "id": "m6X1K1fw3YQQ",
        "outputId": "a94d956d-ff5b-4cf5-8ff1-6ddcd4294e6f"
      },
      "id": "m6X1K1fw3YQQ",
      "execution_count": 40,
      "outputs": [
        {
          "output_type": "stream",
          "name": "stdout",
          "text": [
            "Epoch: 0 | Loss: 469.15683, Accuracy: 88.37% | Test Loss: 537025904640.00000, Test Accuracy: 11.55%\n",
            "Epoch: 10 | Loss: nan, Accuracy: 0.00% | Test Loss: nan, Test Accuracy: 0.00%\n",
            "Epoch: 20 | Loss: nan, Accuracy: 0.00% | Test Loss: nan, Test Accuracy: 0.00%\n",
            "Epoch: 30 | Loss: nan, Accuracy: 0.00% | Test Loss: nan, Test Accuracy: 0.00%\n",
            "Epoch: 40 | Loss: nan, Accuracy: 0.00% | Test Loss: nan, Test Accuracy: 0.00%\n",
            "Epoch: 50 | Loss: nan, Accuracy: 0.00% | Test Loss: nan, Test Accuracy: 0.00%\n",
            "Epoch: 60 | Loss: nan, Accuracy: 0.00% | Test Loss: nan, Test Accuracy: 0.00%\n",
            "Epoch: 70 | Loss: nan, Accuracy: 0.00% | Test Loss: nan, Test Accuracy: 0.00%\n",
            "Epoch: 80 | Loss: nan, Accuracy: 0.00% | Test Loss: nan, Test Accuracy: 0.00%\n",
            "Epoch: 90 | Loss: nan, Accuracy: 0.00% | Test Loss: nan, Test Accuracy: 0.00%\n"
          ]
        }
      ]
    }
  ],
  "metadata": {
    "kernelspec": {
      "display_name": "Python 3",
      "name": "python3"
    },
    "language_info": {
      "codemirror_mode": {
        "name": "ipython",
        "version": 3
      },
      "file_extension": ".py",
      "mimetype": "text/x-python",
      "name": "python",
      "nbconvert_exporter": "python",
      "pygments_lexer": "ipython3",
      "version": "3.10.12"
    },
    "papermill": {
      "default_parameters": {},
      "duration": 268.562024,
      "end_time": "2023-09-16T07:49:40.617926",
      "environment_variables": {},
      "exception": null,
      "input_path": "__notebook__.ipynb",
      "output_path": "__notebook__.ipynb",
      "parameters": {},
      "start_time": "2023-09-16T07:45:12.055902",
      "version": "2.4.0"
    },
    "colab": {
      "provenance": [],
      "include_colab_link": true
    },
    "accelerator": "TPU"
  },
  "nbformat": 4,
  "nbformat_minor": 5
}